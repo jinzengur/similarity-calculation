{
 "cells": [
  {
   "cell_type": "markdown",
   "metadata": {},
   "source": [
    "# Example of similarity score calculation of 2CO on Pt(553) configurations"
   ]
  },
  {
   "cell_type": "markdown",
   "metadata": {},
   "source": [
    "### Import the necessary functions"
   ]
  },
  {
   "cell_type": "code",
   "execution_count": 1,
   "metadata": {},
   "outputs": [
    {
     "name": "stdout",
     "output_type": "stream",
     "text": [
      "successfully loaded packages\n"
     ]
    }
   ],
   "source": [
    "import pandas as pd\n",
    "import time # timing the execution of the similarity calculation\n",
    "import similarity as sim\n",
    "print(\"successfully loaded packages\")"
   ]
  },
  {
   "cell_type": "markdown",
   "metadata": {},
   "source": [
    "### Load the configurations\n",
    "There are 2 pairs of conifgurations (total of 4 configurations) subjected to the similarity calculation.\\\n",
    "The configurations in conf_pair1 (conf1 and conf2) are highly similar.\\\n",
    "The configurations in conf_pair2 (conf3 and conf4) are highly dis-similar.\n",
    "conf1             |  conf2\n",
    ":-------------------------:|:-------------------------:\n",
    "![](conf_img/conf1.png)  |  ![](conf_img/conf2.png)\n",
    "\n",
    "conf3             |  conf4\n",
    ":-------------------------:|:-------------------------:\n",
    "![](conf_img/conf3.png)  |  ![](conf_img/conf4.png)"
   ]
  },
  {
   "cell_type": "code",
   "execution_count": 2,
   "metadata": {},
   "outputs": [],
   "source": [
    "conf1_path = '2COconf1.CONTCAR'\n",
    "conf2_path = '2COconf2.CONTCAR'\n",
    "conf3_path = '2COconf3.CONTCAR'\n",
    "conf4_path = '2COconf4.CONTCAR'\n",
    "\n",
    "conf_pair1 = [conf1_path,conf2_path]\n",
    "conf_pair2 = [conf3_path,conf4_path]"
   ]
  },
  {
   "cell_type": "markdown",
   "metadata": {},
   "source": [
    "### Do the similarity calculations"
   ]
  },
  {
   "cell_type": "code",
   "execution_count": 3,
   "metadata": {},
   "outputs": [
    {
     "name": "stdout",
     "output_type": "stream",
     "text": [
      "conf_pair1 score is -0.00010181489051319659\n",
      "conf_pair2 score is -0.24061769247055054\n",
      "execution time is 1.3150207996368408 s\n"
     ]
    }
   ],
   "source": [
    "start = time.time()\n",
    "conf_pair1_score = sim.compare_eigval_diff(conf_pair1,start_atom_ele='Pt')\n",
    "conf_pair2_score = sim.compare_eigval_diff(conf_pair2,start_atom_ele='Pt')\n",
    "end = time.time()\n",
    "t_execution = end - start\n",
    "\n",
    "print(f'conf_pair1 score is {conf_pair1_score}')\n",
    "print(f'conf_pair2 score is {conf_pair2_score}')\n",
    "print(f'execution time is {t_execution} s')"
   ]
  }
 ],
 "metadata": {
  "kernelspec": {
   "display_name": "Python 3",
   "language": "python",
   "name": "python3"
  },
  "language_info": {
   "codemirror_mode": {
    "name": "ipython",
    "version": 3
   },
   "file_extension": ".py",
   "mimetype": "text/x-python",
   "name": "python",
   "nbconvert_exporter": "python",
   "pygments_lexer": "ipython3",
   "version": "3.9.18"
  },
  "orig_nbformat": 4
 },
 "nbformat": 4,
 "nbformat_minor": 2
}
