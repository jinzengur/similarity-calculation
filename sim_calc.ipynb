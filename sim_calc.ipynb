{
 "cells": [
  {
   "cell_type": "markdown",
   "metadata": {},
   "source": [
    "# Example of similarity score calculation of 2CO on Pt(553) configurations"
   ]
  },
  {
   "cell_type": "markdown",
   "metadata": {},
   "source": [
    "### Import the necessary functions"
   ]
  },
  {
   "cell_type": "code",
   "execution_count": 1,
   "metadata": {},
   "outputs": [
    {
     "name": "stdout",
     "output_type": "stream",
     "text": [
      "successfully loaded packages\n"
     ]
    }
   ],
   "source": [
    "import pandas as pd\n",
    "import time # timing the execution of the similarity calculation\n",
    "import similarity as sim\n",
    "print(\"successfully loaded packages\")"
   ]
  },
  {
   "cell_type": "markdown",
   "metadata": {},
   "source": [
    "### Load the configurations\n",
    "There are 2 pairs of conifgurations (total of 4 configurations) subjected to the similarity calculation.\\\n",
    "The configurations in conf_pair1 (conf1 and conf2) are highly similar.\\\n",
    "The configurations in conf_pair2 (conf3 and conf4) are highly dis-similar.\n",
    "conf1             |  conf2\n",
    ":-------------------------:|:-------------------------:\n",
    "![](conf_img/conf1.png)  |  ![](conf_img/conf2.png)\n",
    "\n",
    "conf3             |  conf4\n",
    ":-------------------------:|:-------------------------:\n",
    "![](conf_img/conf3.png)  |  ![](conf_img/conf4.png)"
   ]
  },
  {
   "cell_type": "markdown",
   "metadata": {},
   "source": [
    "### Note about loading the configuration\n",
    "\n",
    "The configurations of interest can be placed arbitrarily. However, the path to these configurations \\\n",
    "must be accurate. The path can be either the absolute path, or the relative path w.r.t. this notebook. \\\n",
    "In this example, relative path is used for each configuration."
   ]
  },
  {
   "cell_type": "code",
   "execution_count": 2,
   "metadata": {},
   "outputs": [],
   "source": [
    "conf1_path = '2COconf1.CONTCAR'\n",
    "conf2_path = '2COconf2.CONTCAR'\n",
    "conf3_path = '2COconf3.CONTCAR'\n",
    "conf4_path = '2COconf4.CONTCAR'"
   ]
  },
  {
   "cell_type": "markdown",
   "metadata": {},
   "source": [
    "### Making configuration pairs\n",
    "In this example, two configuration pairs are defined as previously stated. \\\n",
    "However, users are free to define their own configuration pairs, as long as \\\n",
    "each pair only consists two configurations.\n",
    "\n",
    "If users want to do similarity calculation on all possible pairs among the configurations of interest, \\\n",
    "users should use `itertools.combinations`, and is demonstrated below."
   ]
  },
  {
   "cell_type": "code",
   "execution_count": 3,
   "metadata": {},
   "outputs": [],
   "source": [
    "conf_pair1 = [conf1_path,conf2_path]\n",
    "conf_pair2 = [conf3_path,conf4_path]\n",
    "\n",
    "### define all possible pair among the configurations of interest\n",
    "from itertools import combinations # users probably need to install the itertools package.\n",
    "conf_path_arr = [conf1_path, conf2_path, conf3_path, conf4_path]\n",
    "all_conf_pairs = list(combinations(conf_path_arr,2))"
   ]
  },
  {
   "cell_type": "markdown",
   "metadata": {},
   "source": [
    "### Do the similarity calculations\n",
    "the main function to calculate the similarity score between two configurations of interest is `sim.compare_eigval_diff`. \\\n",
    "The two key inputs are:\n",
    "* the configuration pair, which is an array/list of the paths of the two configurations.\n",
    "* `start_atom_ele`, which sets element of the root atom for the Breadth-first search (BFS) \\\n",
    "for constructing the adjacency matrix of each chemical environment graph ($G_{chem-env}$). \\\n",
    "The sequence of atoms outputed from the BFS won't change the results, as we use the eigenvalues \\\n",
    "sorted by the magnitude.\n",
    "\n",
    "It is highly recommended to use the surface atom element because surface atoms \\\n",
    "are always present in each $G_{chem-env}$. In this case, \\\n",
    "we use `Pt`, which is also the default setting."
   ]
  },
  {
   "cell_type": "code",
   "execution_count": 4,
   "metadata": {},
   "outputs": [
    {
     "name": "stdout",
     "output_type": "stream",
     "text": [
      "conf_pair1 score is -0.00010181489051319659\n",
      "conf_pair2 score is -0.24061769247055054\n",
      "execution time is 1.3386318683624268 s\n",
      "the sim score between 2COconf1.CONTCAR and 2COconf2.CONTCAR is -0.00010181489051319659\n",
      "the sim score between 2COconf1.CONTCAR and 2COconf3.CONTCAR is -0.18733686208724976\n",
      "the sim score between 2COconf1.CONTCAR and 2COconf4.CONTCAR is -0.06794796139001846\n",
      "the sim score between 2COconf2.CONTCAR and 2COconf3.CONTCAR is -0.1873398721218109\n",
      "the sim score between 2COconf2.CONTCAR and 2COconf4.CONTCAR is -0.06794655323028564\n",
      "the sim score between 2COconf3.CONTCAR and 2COconf4.CONTCAR is -0.24061769247055054\n"
     ]
    }
   ],
   "source": [
    "start = time.time()\n",
    "conf_pair1_score = sim.compare_eigval_diff(conf_pair1,start_atom_ele='Pt')\n",
    "conf_pair2_score = sim.compare_eigval_diff(conf_pair2,start_atom_ele='Pt')\n",
    "end = time.time()\n",
    "t_execution = end - start\n",
    "\n",
    "print(f'conf_pair1 score is {conf_pair1_score}')\n",
    "print(f'conf_pair2 score is {conf_pair2_score}')\n",
    "print(f'execution time is {t_execution} s')\n",
    "\n",
    "for pair in all_conf_pairs:\n",
    "    score = sim.compare_eigval_diff(pair,start_atom_ele='Pt')\n",
    "    print(f'the sim score between {pair[0]} and {pair[1]} is {score}')"
   ]
  }
 ],
 "metadata": {
  "kernelspec": {
   "display_name": "Python 3",
   "language": "python",
   "name": "python3"
  },
  "language_info": {
   "codemirror_mode": {
    "name": "ipython",
    "version": 3
   },
   "file_extension": ".py",
   "mimetype": "text/x-python",
   "name": "python",
   "nbconvert_exporter": "python",
   "pygments_lexer": "ipython3",
   "version": "3.9.18"
  },
  "orig_nbformat": 4
 },
 "nbformat": 4,
 "nbformat_minor": 2
}
